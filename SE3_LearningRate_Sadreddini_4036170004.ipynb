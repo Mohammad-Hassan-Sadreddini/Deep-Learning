{
  "nbformat": 4,
  "nbformat_minor": 0,
  "metadata": {
    "colab": {
      "provenance": [],
      "gpuType": "T4"
    },
    "kernelspec": {
      "name": "python3",
      "display_name": "Python 3"
    },
    "language_info": {
      "name": "python"
    },
    "accelerator": "GPU"
  },
  "cells": [
    {
      "cell_type": "markdown",
      "source": [
        "1) Importing Libraries"
      ],
      "metadata": {
        "id": "dK_wH6QhfgHG"
      }
    },
    {
      "cell_type": "code",
      "execution_count": 1,
      "metadata": {
        "id": "KQTB4pcCfUT3"
      },
      "outputs": [],
      "source": [
        "import numpy as np\n",
        "import tensorflow as tf\n",
        "import matplotlib.pyplot as plt\n",
        "from tensorflow.keras.datasets import mnist\n",
        "from tensorflow.keras.models import Sequential\n",
        "from tensorflow.keras.layers import Dense, Flatten\n",
        "from tensorflow.keras.callbacks import LearningRateScheduler\n"
      ]
    },
    {
      "cell_type": "markdown",
      "source": [
        "2) Loading and Normalizing the MNIST Dataset"
      ],
      "metadata": {
        "id": "arkTUOhdfoou"
      }
    },
    {
      "cell_type": "code",
      "source": [
        "# Load the MNIST dataset\n",
        "(x_train, y_train), (x_test, y_test) = mnist.load_data()\n",
        "\n",
        "# Normalize the pixel values to be between 0 and 1\n",
        "x_train, x_test = x_train / 255.0, x_test / 255.0\n",
        "\n",
        "#displays 9 sample images from the MNIST training dataset\n",
        "plt.figure(figsize=(6, 6))\n",
        "\n",
        "for i in range(9):\n",
        "    plt.subplot(3, 3, i+1)\n",
        "    plt.imshow(x_train[i], cmap='gray')\n",
        "    plt.title(f\"Label: {y_train[i]}\")\n",
        "    plt.axis('off')\n",
        "\n",
        "plt.tight_layout()\n",
        "plt.show()\n",
        "\n"
      ],
      "metadata": {
        "colab": {
          "base_uri": "https://localhost:8080/",
          "height": 642
        },
        "id": "O3W245f1fsJd",
        "outputId": "f6126f63-3c4f-42fe-ad02-3ef2c77be292"
      },
      "execution_count": 2,
      "outputs": [
        {
          "output_type": "stream",
          "name": "stdout",
          "text": [
            "Downloading data from https://storage.googleapis.com/tensorflow/tf-keras-datasets/mnist.npz\n",
            "\u001b[1m11490434/11490434\u001b[0m \u001b[32m━━━━━━━━━━━━━━━━━━━━\u001b[0m\u001b[37m\u001b[0m \u001b[1m0s\u001b[0m 0us/step\n"
          ]
        },
        {
          "output_type": "display_data",
          "data": {
            "text/plain": [
              "<Figure size 600x600 with 9 Axes>"
            ],
            "image/png": "[encoded data removed]"
          },
          "metadata": {}
        }
      ]
    },
    {
      "cell_type": "markdown",
      "source": [
        "3) Creating the Model (model_1M)"
      ],
      "metadata": {
        "id": "kGtyUQzMfuu0"
      }
    },
    {
      "cell_type": "code",
      "source": [
        "# Build the model with 1 hidden layer of 121 neurons and ReLU activation\n",
        "model_1M = Sequential([\n",
        "    Flatten(input_shape=(28, 28)),  # Flatten the 28x28 images to a vector\n",
        "    Dense(121, activation='relu'),  # Hidden layer with 121 neurons and ReLU activation\n",
        "    Dense(10, activation='softmax')  # Output layer with 10 neurons for classification (10 classes)\n",
        "])\n",
        "\n",
        "# Print the summary of the model to see the architecture\n",
        "model_1M.summary()\n"
      ],
      "metadata": {
        "colab": {
          "base_uri": "https://localhost:8080/",
          "height": 280
        },
        "id": "BMjDlCd9fyQd",
        "outputId": "cf0846ae-2cf5-499d-b8fd-505294a794a2"
      },
      "execution_count": 3,
      "outputs": [
        {
          "output_type": "stream",
          "name": "stderr",
          "text": [
            "/usr/local/lib/python3.11/dist-packages/keras/src/layers/reshaping/flatten.py:37: UserWarning: Do not pass an `input_shape`/`input_dim` argument to a layer. When using Sequential models, prefer using an `Input(shape)` object as the first layer in the model instead.\n",
            "  super().__init__(**kwargs)\n"
          ]
        },
        {
          "output_type": "display_data",
          "data": {
            "text/plain": [
              "\u001b[1mModel: \"sequential\"\u001b[0m\n"
            ],
            "text/html": [
              "<pre style=\"white-space:pre;overflow-x:auto;line-height:normal;font-family:Menlo,'DejaVu Sans Mono',consolas,'Courier New',monospace\"><span style=\"font-weight: bold\">Model: \"sequential\"</span>\n",
              "</pre>\n"
            ]
          },
          "metadata": {}
        },
        {
          "output_type": "display_data",
          "data": {
            "text/plain": [
              "┏━━━━━━━━━━━━━━━━━━━━━━━━━━━━━━━━━┳━━━━━━━━━━━━━━━━━━━━━━━━┳━━━━━━━━━━━━━━━┓\n",
              "┃\u001b[1m \u001b[0m\u001b[1mLayer (type)                   \u001b[0m\u001b[1m \u001b[0m┃\u001b[1m \u001b[0m\u001b[1mOutput Shape          \u001b[0m\u001b[1m \u001b[0m┃\u001b[1m \u001b[0m\u001b[1m      Param #\u001b[0m\u001b[1m \u001b[0m┃\n",
              "┡━━━━━━━━━━━━━━━━━━━━━━━━━━━━━━━━━╇━━━━━━━━━━━━━━━━━━━━━━━━╇━━━━━━━━━━━━━━━┩\n",
              "│ flatten (\u001b[38;5;33mFlatten\u001b[0m)               │ (\u001b[38;5;45mNone\u001b[0m, \u001b[38;5;34m784\u001b[0m)            │             \u001b[38;5;34m0\u001b[0m │\n",
              "├─────────────────────────────────┼────────────────────────┼───────────────┤\n",
              "│ dense (\u001b[38;5;33mDense\u001b[0m)                   │ (\u001b[38;5;45mNone\u001b[0m, \u001b[38;5;34m121\u001b[0m)            │        \u001b[38;5;34m94,985\u001b[0m │\n",
              "├─────────────────────────────────┼────────────────────────┼───────────────┤\n",
              "│ dense_1 (\u001b[38;5;33mDense\u001b[0m)                 │ (\u001b[38;5;45mNone\u001b[0m, \u001b[38;5;34m10\u001b[0m)             │         \u001b[38;5;34m1,220\u001b[0m │\n",
              "└─────────────────────────────────┴────────────────────────┴───────────────┘\n"
            ],
            "text/html": [
              "<pre style=\"white-space:pre;overflow-x:auto;line-height:normal;font-family:Menlo,'DejaVu Sans Mono',consolas,'Courier New',monospace\">┏━━━━━━━━━━━━━━━━━━━━━━━━━━━━━━━━━┳━━━━━━━━━━━━━━━━━━━━━━━━┳━━━━━━━━━━━━━━━┓\n",
              "┃<span style=\"font-weight: bold\"> Layer (type)                    </span>┃<span style=\"font-weight: bold\"> Output Shape           </span>┃<span style=\"font-weight: bold\">       Param # </span>┃\n",
              "┡━━━━━━━━━━━━━━━━━━━━━━━━━━━━━━━━━╇━━━━━━━━━━━━━━━━━━━━━━━━╇━━━━━━━━━━━━━━━┩\n",
              "│ flatten (<span style=\"color: #0087ff; text-decoration-color: #0087ff\">Flatten</span>)               │ (<span style=\"color: #00d7ff; text-decoration-color: #00d7ff\">None</span>, <span style=\"color: #00af00; text-decoration-color: #00af00\">784</span>)            │             <span style=\"color: #00af00; text-decoration-color: #00af00\">0</span> │\n",
              "├─────────────────────────────────┼────────────────────────┼───────────────┤\n",
              "│ dense (<span style=\"color: #0087ff; text-decoration-color: #0087ff\">Dense</span>)                   │ (<span style=\"color: #00d7ff; text-decoration-color: #00d7ff\">None</span>, <span style=\"color: #00af00; text-decoration-color: #00af00\">121</span>)            │        <span style=\"color: #00af00; text-decoration-color: #00af00\">94,985</span> │\n",
              "├─────────────────────────────────┼────────────────────────┼───────────────┤\n",
              "│ dense_1 (<span style=\"color: #0087ff; text-decoration-color: #0087ff\">Dense</span>)                 │ (<span style=\"color: #00d7ff; text-decoration-color: #00d7ff\">None</span>, <span style=\"color: #00af00; text-decoration-color: #00af00\">10</span>)             │         <span style=\"color: #00af00; text-decoration-color: #00af00\">1,220</span> │\n",
              "└─────────────────────────────────┴────────────────────────┴───────────────┘\n",
              "</pre>\n"
            ]
          },
          "metadata": {}
        },
        {
          "output_type": "display_data",
          "data": {
            "text/plain": [
              "\u001b[1m Total params: \u001b[0m\u001b[38;5;34m96,205\u001b[0m (375.80 KB)\n"
            ],
            "text/html": [
              "<pre style=\"white-space:pre;overflow-x:auto;line-height:normal;font-family:Menlo,'DejaVu Sans Mono',consolas,'Courier New',monospace\"><span style=\"font-weight: bold\"> Total params: </span><span style=\"color: #00af00; text-decoration-color: #00af00\">96,205</span> (375.80 KB)\n",
              "</pre>\n"
            ]
          },
          "metadata": {}
        },
        {
          "output_type": "display_data",
          "data": {
            "text/plain": [
              "\u001b[1m Trainable params: \u001b[0m\u001b[38;5;34m96,205\u001b[0m (375.80 KB)\n"
            ],
            "text/html": [
              "<pre style=\"white-space:pre;overflow-x:auto;line-height:normal;font-family:Menlo,'DejaVu Sans Mono',consolas,'Courier New',monospace\"><span style=\"font-weight: bold\"> Trainable params: </span><span style=\"color: #00af00; text-decoration-color: #00af00\">96,205</span> (375.80 KB)\n",
              "</pre>\n"
            ]
          },
          "metadata": {}
        },
        {
          "output_type": "display_data",
          "data": {
            "text/plain": [
              "\u001b[1m Non-trainable params: \u001b[0m\u001b[38;5;34m0\u001b[0m (0.00 B)\n"
            ],
            "text/html": [
              "<pre style=\"white-space:pre;overflow-x:auto;line-height:normal;font-family:Menlo,'DejaVu Sans Mono',consolas,'Courier New',monospace\"><span style=\"font-weight: bold\"> Non-trainable params: </span><span style=\"color: #00af00; text-decoration-color: #00af00\">0</span> (0.00 B)\n",
              "</pre>\n"
            ]
          },
          "metadata": {}
        }
      ]
    },
    {
      "cell_type": "markdown",
      "source": [
        "4) Defining the Time-Based Decay Function"
      ],
      "metadata": {
        "id": "_xgg0MrKf0NN"
      }
    },
    {
      "cell_type": "code",
      "source": [
        "# Define the Time-based Decay function for learning rate\n",
        "def lr_time_based_decay(epoch, lr0=0.1, k=0.01):\n",
        "    return lr0 / (1 + k * epoch)  # Apply the decay formula\n"
      ],
      "metadata": {
        "id": "jse25Y0Kf3NN"
      },
      "execution_count": 4,
      "outputs": []
    },
    {
      "cell_type": "markdown",
      "source": [
        "5) Compiling and Training the Model with Time-Based Decay"
      ],
      "metadata": {
        "id": "DxNFobVnf5Ld"
      }
    },
    {
      "cell_type": "code",
      "source": [
        "# Define the Learning Rate Scheduler callback for Time-based decay\n",
        "lr_scheduler = LearningRateScheduler(lambda epoch: lr_time_based_decay(epoch, lr0=0.1, k=0.01))\n",
        "\n",
        "# Compile the model with SGD optimizer, sparse categorical crossentropy loss, and accuracy metric\n",
        "model_1M.compile(optimizer=tf.keras.optimizers.SGD(),\n",
        "                 loss='sparse_categorical_crossentropy',\n",
        "                 metrics=['accuracy'])\n",
        "\n",
        "# Train the model with Time-based decay\n",
        "history_time = model_1M.fit(x_train, y_train,\n",
        "                            epochs=50,\n",
        "                            batch_size=128,\n",
        "                            validation_data=(x_test, y_test),\n",
        "                            callbacks=[lr_scheduler],\n",
        "                            verbose=2)\n",
        "\n",
        "# Evaluate the model's accuracy on the training and test sets\n",
        "train_loss_time, train_acc_time = model_1M.evaluate(x_train, y_train, verbose=0)\n",
        "test_loss_time, test_acc_time = model_1M.evaluate(x_test, y_test, verbose=0)\n",
        "\n",
        "print(f\"\\n [Time Decay] Training Accuracy: {train_acc_time:.4f}\")\n",
        "print(f\"[Time Decay] Test Accuracy:     {test_acc_time:.4f}\")\n"
      ],
      "metadata": {
        "colab": {
          "base_uri": "https://localhost:8080/"
        },
        "id": "eoUPKA2jf8tW",
        "outputId": "d65829ea-6794-41b8-e85d-6b7d5f33e9c0"
      },
      "execution_count": 6,
      "outputs": [
        {
          "output_type": "stream",
          "name": "stdout",
          "text": [
            "Epoch 1/50\n",
            "469/469 - 3s - 7ms/step - accuracy: 0.9617 - loss: 0.1339 - val_accuracy: 0.9629 - val_loss: 0.1292 - learning_rate: 0.1000\n",
            "Epoch 2/50\n",
            "469/469 - 1s - 3ms/step - accuracy: 0.9657 - loss: 0.1205 - val_accuracy: 0.9629 - val_loss: 0.1250 - learning_rate: 0.0990\n",
            "Epoch 3/50\n",
            "469/469 - 1s - 2ms/step - accuracy: 0.9697 - loss: 0.1098 - val_accuracy: 0.9663 - val_loss: 0.1135 - learning_rate: 0.0980\n",
            "Epoch 4/50\n",
            "469/469 - 1s - 3ms/step - accuracy: 0.9714 - loss: 0.1008 - val_accuracy: 0.9672 - val_loss: 0.1066 - learning_rate: 0.0971\n",
            "Epoch 5/50\n",
            "469/469 - 2s - 5ms/step - accuracy: 0.9738 - loss: 0.0935 - val_accuracy: 0.9684 - val_loss: 0.1032 - learning_rate: 0.0962\n",
            "Epoch 6/50\n",
            "469/469 - 1s - 3ms/step - accuracy: 0.9761 - loss: 0.0869 - val_accuracy: 0.9698 - val_loss: 0.0983 - learning_rate: 0.0952\n",
            "Epoch 7/50\n",
            "469/469 - 1s - 2ms/step - accuracy: 0.9772 - loss: 0.0815 - val_accuracy: 0.9712 - val_loss: 0.0955 - learning_rate: 0.0943\n",
            "Epoch 8/50\n",
            "469/469 - 2s - 4ms/step - accuracy: 0.9789 - loss: 0.0765 - val_accuracy: 0.9723 - val_loss: 0.0927 - learning_rate: 0.0935\n",
            "Epoch 9/50\n",
            "469/469 - 1s - 3ms/step - accuracy: 0.9801 - loss: 0.0722 - val_accuracy: 0.9704 - val_loss: 0.0946 - learning_rate: 0.0926\n",
            "Epoch 10/50\n",
            "469/469 - 1s - 3ms/step - accuracy: 0.9814 - loss: 0.0683 - val_accuracy: 0.9729 - val_loss: 0.0877 - learning_rate: 0.0917\n",
            "Epoch 11/50\n",
            "469/469 - 3s - 5ms/step - accuracy: 0.9823 - loss: 0.0647 - val_accuracy: 0.9748 - val_loss: 0.0852 - learning_rate: 0.0909\n",
            "Epoch 12/50\n",
            "469/469 - 2s - 5ms/step - accuracy: 0.9834 - loss: 0.0617 - val_accuracy: 0.9739 - val_loss: 0.0849 - learning_rate: 0.0901\n",
            "Epoch 13/50\n",
            "469/469 - 1s - 3ms/step - accuracy: 0.9842 - loss: 0.0585 - val_accuracy: 0.9737 - val_loss: 0.0842 - learning_rate: 0.0893\n",
            "Epoch 14/50\n",
            "469/469 - 1s - 3ms/step - accuracy: 0.9850 - loss: 0.0559 - val_accuracy: 0.9756 - val_loss: 0.0813 - learning_rate: 0.0885\n",
            "Epoch 15/50\n",
            "469/469 - 2s - 3ms/step - accuracy: 0.9861 - loss: 0.0534 - val_accuracy: 0.9749 - val_loss: 0.0804 - learning_rate: 0.0877\n",
            "Epoch 16/50\n",
            "469/469 - 2s - 5ms/step - accuracy: 0.9865 - loss: 0.0513 - val_accuracy: 0.9741 - val_loss: 0.0808 - learning_rate: 0.0870\n",
            "Epoch 17/50\n",
            "469/469 - 1s - 3ms/step - accuracy: 0.9874 - loss: 0.0491 - val_accuracy: 0.9754 - val_loss: 0.0796 - learning_rate: 0.0862\n",
            "Epoch 18/50\n",
            "469/469 - 1s - 2ms/step - accuracy: 0.9877 - loss: 0.0470 - val_accuracy: 0.9750 - val_loss: 0.0795 - learning_rate: 0.0855\n",
            "Epoch 19/50\n",
            "469/469 - 1s - 2ms/step - accuracy: 0.9883 - loss: 0.0452 - val_accuracy: 0.9756 - val_loss: 0.0781 - learning_rate: 0.0847\n",
            "Epoch 20/50\n",
            "469/469 - 1s - 3ms/step - accuracy: 0.9887 - loss: 0.0433 - val_accuracy: 0.9761 - val_loss: 0.0766 - learning_rate: 0.0840\n",
            "Epoch 21/50\n",
            "469/469 - 3s - 6ms/step - accuracy: 0.9897 - loss: 0.0419 - val_accuracy: 0.9768 - val_loss: 0.0757 - learning_rate: 0.0833\n",
            "Epoch 22/50\n",
            "469/469 - 1s - 3ms/step - accuracy: 0.9904 - loss: 0.0403 - val_accuracy: 0.9775 - val_loss: 0.0744 - learning_rate: 0.0826\n",
            "Epoch 23/50\n",
            "469/469 - 2s - 4ms/step - accuracy: 0.9905 - loss: 0.0388 - val_accuracy: 0.9772 - val_loss: 0.0761 - learning_rate: 0.0820\n",
            "Epoch 24/50\n",
            "469/469 - 2s - 5ms/step - accuracy: 0.9912 - loss: 0.0372 - val_accuracy: 0.9769 - val_loss: 0.0732 - learning_rate: 0.0813\n",
            "Epoch 25/50\n",
            "469/469 - 1s - 3ms/step - accuracy: 0.9913 - loss: 0.0361 - val_accuracy: 0.9768 - val_loss: 0.0740 - learning_rate: 0.0806\n",
            "Epoch 26/50\n",
            "469/469 - 1s - 2ms/step - accuracy: 0.9918 - loss: 0.0349 - val_accuracy: 0.9770 - val_loss: 0.0743 - learning_rate: 0.0800\n",
            "Epoch 27/50\n",
            "469/469 - 1s - 3ms/step - accuracy: 0.9922 - loss: 0.0336 - val_accuracy: 0.9779 - val_loss: 0.0727 - learning_rate: 0.0794\n",
            "Epoch 28/50\n",
            "469/469 - 2s - 5ms/step - accuracy: 0.9923 - loss: 0.0327 - val_accuracy: 0.9771 - val_loss: 0.0726 - learning_rate: 0.0787\n",
            "Epoch 29/50\n",
            "469/469 - 1s - 3ms/step - accuracy: 0.9930 - loss: 0.0316 - val_accuracy: 0.9777 - val_loss: 0.0726 - learning_rate: 0.0781\n",
            "Epoch 30/50\n",
            "469/469 - 2s - 4ms/step - accuracy: 0.9932 - loss: 0.0306 - val_accuracy: 0.9779 - val_loss: 0.0713 - learning_rate: 0.0775\n",
            "Epoch 31/50\n",
            "469/469 - 1s - 3ms/step - accuracy: 0.9934 - loss: 0.0297 - val_accuracy: 0.9767 - val_loss: 0.0738 - learning_rate: 0.0769\n",
            "Epoch 32/50\n",
            "469/469 - 1s - 3ms/step - accuracy: 0.9937 - loss: 0.0286 - val_accuracy: 0.9774 - val_loss: 0.0727 - learning_rate: 0.0763\n",
            "Epoch 33/50\n",
            "469/469 - 2s - 5ms/step - accuracy: 0.9937 - loss: 0.0278 - val_accuracy: 0.9779 - val_loss: 0.0716 - learning_rate: 0.0758\n",
            "Epoch 34/50\n",
            "469/469 - 1s - 3ms/step - accuracy: 0.9940 - loss: 0.0271 - val_accuracy: 0.9785 - val_loss: 0.0715 - learning_rate: 0.0752\n",
            "Epoch 35/50\n",
            "469/469 - 1s - 3ms/step - accuracy: 0.9942 - loss: 0.0263 - val_accuracy: 0.9786 - val_loss: 0.0709 - learning_rate: 0.0746\n",
            "Epoch 36/50\n",
            "469/469 - 3s - 5ms/step - accuracy: 0.9948 - loss: 0.0255 - val_accuracy: 0.9784 - val_loss: 0.0718 - learning_rate: 0.0741\n",
            "Epoch 37/50\n",
            "469/469 - 2s - 3ms/step - accuracy: 0.9948 - loss: 0.0247 - val_accuracy: 0.9782 - val_loss: 0.0718 - learning_rate: 0.0735\n",
            "Epoch 38/50\n",
            "469/469 - 1s - 3ms/step - accuracy: 0.9952 - loss: 0.0241 - val_accuracy: 0.9776 - val_loss: 0.0718 - learning_rate: 0.0730\n",
            "Epoch 39/50\n",
            "469/469 - 2s - 5ms/step - accuracy: 0.9954 - loss: 0.0234 - val_accuracy: 0.9779 - val_loss: 0.0730 - learning_rate: 0.0725\n",
            "Epoch 40/50\n",
            "469/469 - 1s - 2ms/step - accuracy: 0.9956 - loss: 0.0228 - val_accuracy: 0.9778 - val_loss: 0.0711 - learning_rate: 0.0719\n",
            "Epoch 41/50\n",
            "469/469 - 1s - 2ms/step - accuracy: 0.9959 - loss: 0.0221 - val_accuracy: 0.9788 - val_loss: 0.0713 - learning_rate: 0.0714\n",
            "Epoch 42/50\n",
            "469/469 - 1s - 3ms/step - accuracy: 0.9961 - loss: 0.0216 - val_accuracy: 0.9785 - val_loss: 0.0711 - learning_rate: 0.0709\n",
            "Epoch 43/50\n",
            "469/469 - 1s - 3ms/step - accuracy: 0.9962 - loss: 0.0211 - val_accuracy: 0.9785 - val_loss: 0.0709 - learning_rate: 0.0704\n",
            "Epoch 44/50\n",
            "469/469 - 3s - 5ms/step - accuracy: 0.9964 - loss: 0.0205 - val_accuracy: 0.9790 - val_loss: 0.0703 - learning_rate: 0.0699\n",
            "Epoch 45/50\n",
            "469/469 - 2s - 4ms/step - accuracy: 0.9965 - loss: 0.0200 - val_accuracy: 0.9795 - val_loss: 0.0693 - learning_rate: 0.0694\n",
            "Epoch 46/50\n",
            "469/469 - 2s - 5ms/step - accuracy: 0.9967 - loss: 0.0195 - val_accuracy: 0.9788 - val_loss: 0.0715 - learning_rate: 0.0690\n",
            "Epoch 47/50\n",
            "469/469 - 3s - 5ms/step - accuracy: 0.9971 - loss: 0.0191 - val_accuracy: 0.9785 - val_loss: 0.0704 - learning_rate: 0.0685\n",
            "Epoch 48/50\n",
            "469/469 - 1s - 2ms/step - accuracy: 0.9971 - loss: 0.0185 - val_accuracy: 0.9787 - val_loss: 0.0698 - learning_rate: 0.0680\n",
            "Epoch 49/50\n",
            "469/469 - 1s - 3ms/step - accuracy: 0.9974 - loss: 0.0182 - val_accuracy: 0.9786 - val_loss: 0.0709 - learning_rate: 0.0676\n",
            "Epoch 50/50\n",
            "469/469 - 3s - 5ms/step - accuracy: 0.9973 - loss: 0.0178 - val_accuracy: 0.9783 - val_loss: 0.0708 - learning_rate: 0.0671\n",
            "\n",
            " [Time Decay] Training Accuracy: 0.9977\n",
            "[Time Decay] Test Accuracy:     0.9783\n"
          ]
        }
      ]
    },
    {
      "cell_type": "markdown",
      "source": [
        "6) Defining the Step Decay Function"
      ],
      "metadata": {
        "id": "TLlcFIDvf-_F"
      }
    },
    {
      "cell_type": "code",
      "source": [
        "# Define the Step Decay function for learning rate\n",
        "def decay_step_lr(epoch, lr0=0.1, drop=0.5, epochs_drop=10):\n",
        "    return lr0 * drop ** np.floor(epoch / epochs_drop)  # Apply the step decay formula\n"
      ],
      "metadata": {
        "id": "6sRAtG94gCJO"
      },
      "execution_count": 7,
      "outputs": []
    },
    {
      "cell_type": "markdown",
      "source": [
        "7) Compiling and Training the Model with Step Decay"
      ],
      "metadata": {
        "id": "opP3YJzogD11"
      }
    },
    {
      "cell_type": "code",
      "source": [
        "# Define the Learning Rate Scheduler callback for Step Decay\n",
        "step_scheduler = LearningRateScheduler(lambda epoch: decay_step_lr(epoch, lr0=0.1, drop=0.5, epochs_drop=10))\n",
        "\n",
        "# Compile the model again (or reset the model if needed)\n",
        "model_1M = Sequential([\n",
        "    Flatten(input_shape=(28, 28)),\n",
        "    Dense(121, activation='relu'),\n",
        "    Dense(10, activation='softmax')\n",
        "])\n",
        "\n",
        "# Compile the model again for Step Decay\n",
        "model_1M.compile(optimizer=tf.keras.optimizers.SGD(),\n",
        "                 loss='sparse_categorical_crossentropy',\n",
        "                 metrics=['accuracy'])\n",
        "\n",
        "# Train the model with Step Decay\n",
        "history_step = model_1M.fit(x_train, y_train,\n",
        "                            epochs=50,\n",
        "                            batch_size=128,\n",
        "                            validation_data=(x_test, y_test),\n",
        "                            callbacks=[step_scheduler],\n",
        "                            verbose=2)\n",
        "\n",
        "# Evaluate the model's accuracy on the training and test sets\n",
        "train_loss_step, train_acc_step = model_1M.evaluate(x_train, y_train, verbose=0)\n",
        "test_loss_step, test_acc_step = model_1M.evaluate(x_test, y_test, verbose=0)\n",
        "\n",
        "print(f\"\\n [Step Decay] Training Accuracy: {train_acc_step:.4f}\")\n",
        "print(f\" [Step Decay] Test Accuracy:     {test_acc_step:.4f}\")\n"
      ],
      "metadata": {
        "colab": {
          "base_uri": "https://localhost:8080/"
        },
        "id": "H5Ik8LbbgGZV",
        "outputId": "5a39ce0b-3f74-425f-ee35-7afb907ed527"
      },
      "execution_count": 8,
      "outputs": [
        {
          "output_type": "stream",
          "name": "stdout",
          "text": [
            "Epoch 1/50\n",
            "469/469 - 3s - 7ms/step - accuracy: 0.8755 - loss: 0.4595 - val_accuracy: 0.9225 - val_loss: 0.2754 - learning_rate: 0.1000\n",
            "Epoch 2/50\n",
            "469/469 - 1s - 2ms/step - accuracy: 0.9272 - loss: 0.2578 - val_accuracy: 0.9350 - val_loss: 0.2268 - learning_rate: 0.1000\n",
            "Epoch 3/50\n",
            "469/469 - 1s - 2ms/step - accuracy: 0.9406 - loss: 0.2100 - val_accuracy: 0.9444 - val_loss: 0.1916 - learning_rate: 0.1000\n",
            "Epoch 4/50\n",
            "469/469 - 1s - 3ms/step - accuracy: 0.9499 - loss: 0.1784 - val_accuracy: 0.9525 - val_loss: 0.1623 - learning_rate: 0.1000\n",
            "Epoch 5/50\n",
            "469/469 - 1s - 2ms/step - accuracy: 0.9559 - loss: 0.1554 - val_accuracy: 0.9563 - val_loss: 0.1471 - learning_rate: 0.1000\n",
            "Epoch 6/50\n",
            "469/469 - 1s - 3ms/step - accuracy: 0.9616 - loss: 0.1378 - val_accuracy: 0.9592 - val_loss: 0.1374 - learning_rate: 0.1000\n",
            "Epoch 7/50\n",
            "469/469 - 1s - 2ms/step - accuracy: 0.9654 - loss: 0.1238 - val_accuracy: 0.9652 - val_loss: 0.1232 - learning_rate: 0.1000\n",
            "Epoch 8/50\n",
            "469/469 - 1s - 3ms/step - accuracy: 0.9694 - loss: 0.1123 - val_accuracy: 0.9669 - val_loss: 0.1136 - learning_rate: 0.1000\n",
            "Epoch 9/50\n",
            "469/469 - 1s - 3ms/step - accuracy: 0.9711 - loss: 0.1031 - val_accuracy: 0.9680 - val_loss: 0.1082 - learning_rate: 0.1000\n",
            "Epoch 10/50\n",
            "469/469 - 2s - 5ms/step - accuracy: 0.9740 - loss: 0.0953 - val_accuracy: 0.9687 - val_loss: 0.1037 - learning_rate: 0.1000\n",
            "Epoch 11/50\n",
            "469/469 - 2s - 5ms/step - accuracy: 0.9767 - loss: 0.0868 - val_accuracy: 0.9698 - val_loss: 0.0991 - learning_rate: 0.0500\n",
            "Epoch 12/50\n",
            "469/469 - 1s - 3ms/step - accuracy: 0.9775 - loss: 0.0834 - val_accuracy: 0.9701 - val_loss: 0.0982 - learning_rate: 0.0500\n",
            "Epoch 13/50\n",
            "469/469 - 1s - 3ms/step - accuracy: 0.9783 - loss: 0.0804 - val_accuracy: 0.9711 - val_loss: 0.0954 - learning_rate: 0.0500\n",
            "Epoch 14/50\n",
            "469/469 - 2s - 5ms/step - accuracy: 0.9790 - loss: 0.0777 - val_accuracy: 0.9716 - val_loss: 0.0946 - learning_rate: 0.0500\n",
            "Epoch 15/50\n",
            "469/469 - 1s - 3ms/step - accuracy: 0.9801 - loss: 0.0752 - val_accuracy: 0.9720 - val_loss: 0.0921 - learning_rate: 0.0500\n",
            "Epoch 16/50\n",
            "469/469 - 2s - 4ms/step - accuracy: 0.9808 - loss: 0.0726 - val_accuracy: 0.9731 - val_loss: 0.0892 - learning_rate: 0.0500\n",
            "Epoch 17/50\n",
            "469/469 - 1s - 2ms/step - accuracy: 0.9815 - loss: 0.0703 - val_accuracy: 0.9736 - val_loss: 0.0893 - learning_rate: 0.0500\n",
            "Epoch 18/50\n",
            "469/469 - 1s - 2ms/step - accuracy: 0.9820 - loss: 0.0682 - val_accuracy: 0.9737 - val_loss: 0.0881 - learning_rate: 0.0500\n",
            "Epoch 19/50\n",
            "469/469 - 1s - 3ms/step - accuracy: 0.9823 - loss: 0.0660 - val_accuracy: 0.9741 - val_loss: 0.0893 - learning_rate: 0.0500\n",
            "Epoch 20/50\n",
            "469/469 - 2s - 5ms/step - accuracy: 0.9828 - loss: 0.0643 - val_accuracy: 0.9745 - val_loss: 0.0846 - learning_rate: 0.0500\n",
            "Epoch 21/50\n",
            "469/469 - 1s - 3ms/step - accuracy: 0.9844 - loss: 0.0615 - val_accuracy: 0.9746 - val_loss: 0.0846 - learning_rate: 0.0250\n",
            "Epoch 22/50\n",
            "469/469 - 1s - 3ms/step - accuracy: 0.9842 - loss: 0.0603 - val_accuracy: 0.9752 - val_loss: 0.0833 - learning_rate: 0.0250\n",
            "Epoch 23/50\n",
            "469/469 - 3s - 6ms/step - accuracy: 0.9844 - loss: 0.0596 - val_accuracy: 0.9752 - val_loss: 0.0835 - learning_rate: 0.0250\n",
            "Epoch 24/50\n",
            "469/469 - 2s - 5ms/step - accuracy: 0.9846 - loss: 0.0587 - val_accuracy: 0.9753 - val_loss: 0.0834 - learning_rate: 0.0250\n",
            "Epoch 25/50\n",
            "469/469 - 1s - 2ms/step - accuracy: 0.9850 - loss: 0.0579 - val_accuracy: 0.9758 - val_loss: 0.0823 - learning_rate: 0.0250\n",
            "Epoch 26/50\n",
            "469/469 - 1s - 2ms/step - accuracy: 0.9853 - loss: 0.0570 - val_accuracy: 0.9751 - val_loss: 0.0827 - learning_rate: 0.0250\n",
            "Epoch 27/50\n",
            "469/469 - 1s - 2ms/step - accuracy: 0.9856 - loss: 0.0562 - val_accuracy: 0.9759 - val_loss: 0.0811 - learning_rate: 0.0250\n",
            "Epoch 28/50\n",
            "469/469 - 1s - 2ms/step - accuracy: 0.9860 - loss: 0.0555 - val_accuracy: 0.9764 - val_loss: 0.0810 - learning_rate: 0.0250\n",
            "Epoch 29/50\n",
            "469/469 - 1s - 2ms/step - accuracy: 0.9860 - loss: 0.0547 - val_accuracy: 0.9763 - val_loss: 0.0806 - learning_rate: 0.0250\n",
            "Epoch 30/50\n",
            "469/469 - 1s - 3ms/step - accuracy: 0.9861 - loss: 0.0540 - val_accuracy: 0.9764 - val_loss: 0.0798 - learning_rate: 0.0250\n",
            "Epoch 31/50\n",
            "469/469 - 1s - 3ms/step - accuracy: 0.9869 - loss: 0.0528 - val_accuracy: 0.9762 - val_loss: 0.0799 - learning_rate: 0.0125\n",
            "Epoch 32/50\n",
            "469/469 - 2s - 5ms/step - accuracy: 0.9869 - loss: 0.0524 - val_accuracy: 0.9764 - val_loss: 0.0793 - learning_rate: 0.0125\n",
            "Epoch 33/50\n",
            "469/469 - 1s - 3ms/step - accuracy: 0.9869 - loss: 0.0521 - val_accuracy: 0.9763 - val_loss: 0.0793 - learning_rate: 0.0125\n",
            "Epoch 34/50\n",
            "469/469 - 3s - 5ms/step - accuracy: 0.9872 - loss: 0.0518 - val_accuracy: 0.9765 - val_loss: 0.0794 - learning_rate: 0.0125\n",
            "Epoch 35/50\n",
            "469/469 - 1s - 2ms/step - accuracy: 0.9875 - loss: 0.0514 - val_accuracy: 0.9768 - val_loss: 0.0788 - learning_rate: 0.0125\n",
            "Epoch 36/50\n",
            "469/469 - 1s - 2ms/step - accuracy: 0.9874 - loss: 0.0511 - val_accuracy: 0.9768 - val_loss: 0.0789 - learning_rate: 0.0125\n",
            "Epoch 37/50\n",
            "469/469 - 1s - 2ms/step - accuracy: 0.9876 - loss: 0.0507 - val_accuracy: 0.9773 - val_loss: 0.0789 - learning_rate: 0.0125\n",
            "Epoch 38/50\n",
            "469/469 - 1s - 3ms/step - accuracy: 0.9873 - loss: 0.0504 - val_accuracy: 0.9768 - val_loss: 0.0786 - learning_rate: 0.0125\n",
            "Epoch 39/50\n",
            "469/469 - 2s - 4ms/step - accuracy: 0.9877 - loss: 0.0501 - val_accuracy: 0.9777 - val_loss: 0.0785 - learning_rate: 0.0125\n",
            "Epoch 40/50\n",
            "469/469 - 1s - 3ms/step - accuracy: 0.9879 - loss: 0.0497 - val_accuracy: 0.9774 - val_loss: 0.0780 - learning_rate: 0.0125\n",
            "Epoch 41/50\n",
            "469/469 - 1s - 2ms/step - accuracy: 0.9881 - loss: 0.0492 - val_accuracy: 0.9772 - val_loss: 0.0780 - learning_rate: 0.0063\n",
            "Epoch 42/50\n",
            "469/469 - 1s - 2ms/step - accuracy: 0.9882 - loss: 0.0490 - val_accuracy: 0.9770 - val_loss: 0.0779 - learning_rate: 0.0063\n",
            "Epoch 43/50\n",
            "469/469 - 1s - 3ms/step - accuracy: 0.9882 - loss: 0.0489 - val_accuracy: 0.9770 - val_loss: 0.0778 - learning_rate: 0.0063\n",
            "Epoch 44/50\n",
            "469/469 - 3s - 5ms/step - accuracy: 0.9882 - loss: 0.0487 - val_accuracy: 0.9766 - val_loss: 0.0778 - learning_rate: 0.0063\n",
            "Epoch 45/50\n",
            "469/469 - 1s - 3ms/step - accuracy: 0.9883 - loss: 0.0485 - val_accuracy: 0.9769 - val_loss: 0.0777 - learning_rate: 0.0063\n",
            "Epoch 46/50\n",
            "469/469 - 3s - 6ms/step - accuracy: 0.9883 - loss: 0.0484 - val_accuracy: 0.9770 - val_loss: 0.0777 - learning_rate: 0.0063\n",
            "Epoch 47/50\n",
            "469/469 - 1s - 3ms/step - accuracy: 0.9884 - loss: 0.0482 - val_accuracy: 0.9772 - val_loss: 0.0776 - learning_rate: 0.0063\n",
            "Epoch 48/50\n",
            "469/469 - 2s - 5ms/step - accuracy: 0.9885 - loss: 0.0481 - val_accuracy: 0.9772 - val_loss: 0.0776 - learning_rate: 0.0063\n",
            "Epoch 49/50\n",
            "469/469 - 3s - 5ms/step - accuracy: 0.9884 - loss: 0.0479 - val_accuracy: 0.9773 - val_loss: 0.0777 - learning_rate: 0.0063\n",
            "Epoch 50/50\n",
            "469/469 - 1s - 3ms/step - accuracy: 0.9884 - loss: 0.0478 - val_accuracy: 0.9770 - val_loss: 0.0777 - learning_rate: 0.0063\n",
            "\n",
            " [Step Decay] Training Accuracy: 0.9887\n",
            " [Step Decay] Test Accuracy:     0.9770\n"
          ]
        }
      ]
    },
    {
      "cell_type": "markdown",
      "source": [
        "8) Defining the Exponential Decay Function"
      ],
      "metadata": {
        "id": "TagiWwA_gIVF"
      }
    },
    {
      "cell_type": "code",
      "source": [
        "# Define the Exponential Decay function for learning rate\n",
        "def decay_exp_lr(epoch, lr0=0.1, k=0.05):\n",
        "    return lr0 * np.exp(-k * epoch)  # Apply the exponential decay formula\n"
      ],
      "metadata": {
        "id": "fSsOTOAPgK1N"
      },
      "execution_count": 9,
      "outputs": []
    },
    {
      "cell_type": "markdown",
      "source": [
        "9) Compiling and Training the Model with Exponential Decay"
      ],
      "metadata": {
        "id": "VentIKp-gNAd"
      }
    },
    {
      "cell_type": "code",
      "source": [
        "# Define the Learning Rate Scheduler callback for Exponential Decay\n",
        "exp_scheduler = LearningRateScheduler(lambda epoch: decay_exp_lr(epoch, lr0=0.1, k=0.05))\n",
        "\n",
        "# Compile the model again (or reset the model if needed)\n",
        "model_1M = Sequential([\n",
        "    Flatten(input_shape=(28, 28)),\n",
        "    Dense(121, activation='relu'),\n",
        "    Dense(10, activation='softmax')\n",
        "])\n",
        "\n",
        "# Compile the model again for Exponential Decay\n",
        "model_1M.compile(optimizer=tf.keras.optimizers.SGD(),\n",
        "                 loss='sparse_categorical_crossentropy',\n",
        "                 metrics=['accuracy'])\n",
        "\n",
        "# Train the model with Exponential Decay\n",
        "history_exp = model_1M.fit(x_train, y_train,\n",
        "                           epochs=50,\n",
        "                           batch_size=128,\n",
        "                           validation_data=(x_test, y_test),\n",
        "                           callbacks=[exp_scheduler],\n",
        "                           verbose=2)\n",
        "\n",
        "# Evaluate the model's accuracy on the training and test sets\n",
        "train_loss_exp, train_acc_exp = model_1M.evaluate(x_train, y_train, verbose=0)\n",
        "test_loss_exp, test_acc_exp = model_1M.evaluate(x_test, y_test, verbose=0)\n",
        "\n",
        "print(f\"\\n [Exponential Decay] Training Accuracy: {train_acc_exp:.4f}\")\n",
        "print(f\" [Exponential Decay] Test Accuracy:     {test_acc_exp:.4f}\")\n"
      ],
      "metadata": {
        "colab": {
          "base_uri": "https://localhost:8080/"
        },
        "id": "W5r0VM8RgPf2",
        "outputId": "a90e5ba9-7837-4d06-c149-86c96d570d3c"
      },
      "execution_count": 11,
      "outputs": [
        {
          "output_type": "stream",
          "name": "stdout",
          "text": [
            "Epoch 1/50\n",
            "469/469 - 3s - 7ms/step - accuracy: 0.8749 - loss: 0.4643 - val_accuracy: 0.9168 - val_loss: 0.2831 - learning_rate: 0.1000\n",
            "Epoch 2/50\n",
            "469/469 - 1s - 2ms/step - accuracy: 0.9265 - loss: 0.2608 - val_accuracy: 0.9355 - val_loss: 0.2248 - learning_rate: 0.0951\n",
            "Epoch 3/50\n",
            "469/469 - 1s - 3ms/step - accuracy: 0.9399 - loss: 0.2129 - val_accuracy: 0.9447 - val_loss: 0.1935 - learning_rate: 0.0905\n",
            "Epoch 4/50\n",
            "469/469 - 1s - 3ms/step - accuracy: 0.9481 - loss: 0.1819 - val_accuracy: 0.9506 - val_loss: 0.1698 - learning_rate: 0.0861\n",
            "Epoch 5/50\n",
            "469/469 - 1s - 2ms/step - accuracy: 0.9555 - loss: 0.1601 - val_accuracy: 0.9571 - val_loss: 0.1507 - learning_rate: 0.0819\n",
            "Epoch 6/50\n",
            "469/469 - 1s - 3ms/step - accuracy: 0.9591 - loss: 0.1436 - val_accuracy: 0.9600 - val_loss: 0.1395 - learning_rate: 0.0779\n",
            "Epoch 7/50\n",
            "469/469 - 3s - 5ms/step - accuracy: 0.9623 - loss: 0.1308 - val_accuracy: 0.9611 - val_loss: 0.1319 - learning_rate: 0.0741\n",
            "Epoch 8/50\n",
            "469/469 - 1s - 3ms/step - accuracy: 0.9658 - loss: 0.1210 - val_accuracy: 0.9647 - val_loss: 0.1233 - learning_rate: 0.0705\n",
            "Epoch 9/50\n",
            "469/469 - 2s - 5ms/step - accuracy: 0.9688 - loss: 0.1125 - val_accuracy: 0.9663 - val_loss: 0.1180 - learning_rate: 0.0670\n",
            "Epoch 10/50\n",
            "469/469 - 1s - 2ms/step - accuracy: 0.9704 - loss: 0.1056 - val_accuracy: 0.9677 - val_loss: 0.1119 - learning_rate: 0.0638\n",
            "Epoch 11/50\n",
            "469/469 - 1s - 3ms/step - accuracy: 0.9718 - loss: 0.0998 - val_accuracy: 0.9688 - val_loss: 0.1083 - learning_rate: 0.0607\n",
            "Epoch 12/50\n",
            "469/469 - 2s - 5ms/step - accuracy: 0.9735 - loss: 0.0948 - val_accuracy: 0.9691 - val_loss: 0.1055 - learning_rate: 0.0577\n",
            "Epoch 13/50\n",
            "469/469 - 1s - 3ms/step - accuracy: 0.9751 - loss: 0.0905 - val_accuracy: 0.9704 - val_loss: 0.1017 - learning_rate: 0.0549\n",
            "Epoch 14/50\n",
            "469/469 - 1s - 2ms/step - accuracy: 0.9759 - loss: 0.0867 - val_accuracy: 0.9716 - val_loss: 0.0984 - learning_rate: 0.0522\n",
            "Epoch 15/50\n",
            "469/469 - 1s - 3ms/step - accuracy: 0.9770 - loss: 0.0833 - val_accuracy: 0.9710 - val_loss: 0.0962 - learning_rate: 0.0497\n",
            "Epoch 16/50\n",
            "469/469 - 2s - 4ms/step - accuracy: 0.9779 - loss: 0.0803 - val_accuracy: 0.9721 - val_loss: 0.0946 - learning_rate: 0.0472\n",
            "Epoch 17/50\n",
            "469/469 - 1s - 3ms/step - accuracy: 0.9787 - loss: 0.0775 - val_accuracy: 0.9724 - val_loss: 0.0930 - learning_rate: 0.0449\n",
            "Epoch 18/50\n",
            "469/469 - 1s - 3ms/step - accuracy: 0.9793 - loss: 0.0753 - val_accuracy: 0.9729 - val_loss: 0.0904 - learning_rate: 0.0427\n",
            "Epoch 19/50\n",
            "469/469 - 2s - 5ms/step - accuracy: 0.9801 - loss: 0.0731 - val_accuracy: 0.9736 - val_loss: 0.0904 - learning_rate: 0.0407\n",
            "Epoch 20/50\n",
            "469/469 - 1s - 2ms/step - accuracy: 0.9808 - loss: 0.0709 - val_accuracy: 0.9737 - val_loss: 0.0892 - learning_rate: 0.0387\n",
            "Epoch 21/50\n",
            "469/469 - 1s - 3ms/step - accuracy: 0.9813 - loss: 0.0693 - val_accuracy: 0.9742 - val_loss: 0.0877 - learning_rate: 0.0368\n",
            "Epoch 22/50\n",
            "469/469 - 1s - 2ms/step - accuracy: 0.9818 - loss: 0.0675 - val_accuracy: 0.9742 - val_loss: 0.0864 - learning_rate: 0.0350\n",
            "Epoch 23/50\n",
            "469/469 - 1s - 3ms/step - accuracy: 0.9822 - loss: 0.0660 - val_accuracy: 0.9749 - val_loss: 0.0860 - learning_rate: 0.0333\n",
            "Epoch 24/50\n",
            "469/469 - 3s - 5ms/step - accuracy: 0.9826 - loss: 0.0646 - val_accuracy: 0.9749 - val_loss: 0.0849 - learning_rate: 0.0317\n",
            "Epoch 25/50\n",
            "469/469 - 2s - 5ms/step - accuracy: 0.9833 - loss: 0.0633 - val_accuracy: 0.9748 - val_loss: 0.0855 - learning_rate: 0.0301\n",
            "Epoch 26/50\n",
            "469/469 - 1s - 2ms/step - accuracy: 0.9834 - loss: 0.0622 - val_accuracy: 0.9747 - val_loss: 0.0846 - learning_rate: 0.0287\n",
            "Epoch 27/50\n",
            "469/469 - 1s - 3ms/step - accuracy: 0.9837 - loss: 0.0611 - val_accuracy: 0.9764 - val_loss: 0.0828 - learning_rate: 0.0273\n",
            "Epoch 28/50\n",
            "469/469 - 1s - 2ms/step - accuracy: 0.9844 - loss: 0.0600 - val_accuracy: 0.9753 - val_loss: 0.0825 - learning_rate: 0.0259\n",
            "Epoch 29/50\n",
            "469/469 - 1s - 3ms/step - accuracy: 0.9844 - loss: 0.0591 - val_accuracy: 0.9758 - val_loss: 0.0826 - learning_rate: 0.0247\n",
            "Epoch 30/50\n",
            "469/469 - 1s - 3ms/step - accuracy: 0.9850 - loss: 0.0583 - val_accuracy: 0.9756 - val_loss: 0.0823 - learning_rate: 0.0235\n",
            "Epoch 31/50\n",
            "469/469 - 3s - 6ms/step - accuracy: 0.9851 - loss: 0.0574 - val_accuracy: 0.9764 - val_loss: 0.0809 - learning_rate: 0.0223\n",
            "Epoch 32/50\n",
            "469/469 - 1s - 2ms/step - accuracy: 0.9854 - loss: 0.0566 - val_accuracy: 0.9763 - val_loss: 0.0808 - learning_rate: 0.0212\n",
            "Epoch 33/50\n",
            "469/469 - 1s - 2ms/step - accuracy: 0.9855 - loss: 0.0560 - val_accuracy: 0.9766 - val_loss: 0.0804 - learning_rate: 0.0202\n",
            "Epoch 34/50\n",
            "469/469 - 1s - 2ms/step - accuracy: 0.9859 - loss: 0.0553 - val_accuracy: 0.9761 - val_loss: 0.0800 - learning_rate: 0.0192\n",
            "Epoch 35/50\n",
            "469/469 - 1s - 3ms/step - accuracy: 0.9859 - loss: 0.0547 - val_accuracy: 0.9765 - val_loss: 0.0794 - learning_rate: 0.0183\n",
            "Epoch 36/50\n",
            "469/469 - 1s - 3ms/step - accuracy: 0.9861 - loss: 0.0541 - val_accuracy: 0.9765 - val_loss: 0.0794 - learning_rate: 0.0174\n",
            "Epoch 37/50\n",
            "469/469 - 2s - 5ms/step - accuracy: 0.9864 - loss: 0.0536 - val_accuracy: 0.9768 - val_loss: 0.0790 - learning_rate: 0.0165\n",
            "Epoch 38/50\n",
            "469/469 - 1s - 3ms/step - accuracy: 0.9866 - loss: 0.0531 - val_accuracy: 0.9767 - val_loss: 0.0788 - learning_rate: 0.0157\n",
            "Epoch 39/50\n",
            "469/469 - 2s - 5ms/step - accuracy: 0.9867 - loss: 0.0525 - val_accuracy: 0.9763 - val_loss: 0.0795 - learning_rate: 0.0150\n",
            "Epoch 40/50\n",
            "469/469 - 1s - 3ms/step - accuracy: 0.9868 - loss: 0.0521 - val_accuracy: 0.9771 - val_loss: 0.0784 - learning_rate: 0.0142\n",
            "Epoch 41/50\n",
            "469/469 - 2s - 5ms/step - accuracy: 0.9870 - loss: 0.0518 - val_accuracy: 0.9764 - val_loss: 0.0783 - learning_rate: 0.0135\n",
            "Epoch 42/50\n",
            "469/469 - 1s - 2ms/step - accuracy: 0.9871 - loss: 0.0513 - val_accuracy: 0.9766 - val_loss: 0.0784 - learning_rate: 0.0129\n",
            "Epoch 43/50\n",
            "469/469 - 1s - 3ms/step - accuracy: 0.9870 - loss: 0.0510 - val_accuracy: 0.9767 - val_loss: 0.0777 - learning_rate: 0.0122\n",
            "Epoch 44/50\n",
            "469/469 - 3s - 6ms/step - accuracy: 0.9873 - loss: 0.0506 - val_accuracy: 0.9766 - val_loss: 0.0777 - learning_rate: 0.0116\n",
            "Epoch 45/50\n",
            "469/469 - 2s - 5ms/step - accuracy: 0.9874 - loss: 0.0503 - val_accuracy: 0.9769 - val_loss: 0.0774 - learning_rate: 0.0111\n",
            "Epoch 46/50\n",
            "469/469 - 2s - 4ms/step - accuracy: 0.9875 - loss: 0.0500 - val_accuracy: 0.9773 - val_loss: 0.0774 - learning_rate: 0.0105\n",
            "Epoch 47/50\n",
            "469/469 - 1s - 2ms/step - accuracy: 0.9877 - loss: 0.0497 - val_accuracy: 0.9771 - val_loss: 0.0773 - learning_rate: 0.0100\n",
            "Epoch 48/50\n",
            "469/469 - 1s - 2ms/step - accuracy: 0.9877 - loss: 0.0494 - val_accuracy: 0.9766 - val_loss: 0.0770 - learning_rate: 0.0095\n",
            "Epoch 49/50\n",
            "469/469 - 2s - 3ms/step - accuracy: 0.9877 - loss: 0.0492 - val_accuracy: 0.9773 - val_loss: 0.0768 - learning_rate: 0.0091\n",
            "Epoch 50/50\n",
            "469/469 - 1s - 3ms/step - accuracy: 0.9877 - loss: 0.0489 - val_accuracy: 0.9774 - val_loss: 0.0767 - learning_rate: 0.0086\n",
            "\n",
            " [Exponential Decay] Training Accuracy: 0.9881\n",
            " [Exponential Decay] Test Accuracy:     0.9774\n"
          ]
        }
      ]
    },
    {
      "cell_type": "markdown",
      "source": [
        "10) Training the Model with Constant Learning Rate (history_const)"
      ],
      "metadata": {
        "id": "7Gsk6w_Bj-6m"
      }
    },
    {
      "cell_type": "code",
      "source": [
        "# Define a constant learning rate for the model\n",
        "constant_lr = 0.1\n",
        "\n",
        "# Build the model (with 1 hidden layer of 121 neurons and ReLU activation)\n",
        "model_const = Sequential([\n",
        "    Flatten(input_shape=(28, 28)),\n",
        "    Dense(121, activation='relu'),\n",
        "    Dense(10, activation='softmax')\n",
        "])\n",
        "\n",
        "# Compile the model with constant learning rate\n",
        "model_const.compile(optimizer=tf.keras.optimizers.SGD(learning_rate=constant_lr),\n",
        "                    loss='sparse_categorical_crossentropy',\n",
        "                    metrics=['accuracy'])\n",
        "\n",
        "# Train the model with constant learning rate\n",
        "history_const = model_const.fit(x_train, y_train,\n",
        "                                epochs=50,\n",
        "                                batch_size=128,\n",
        "                                validation_data=(x_test, y_test),\n",
        "                                verbose=2)\n",
        "\n",
        "# Evaluate the model's accuracy on the training and test sets\n",
        "train_loss_const, train_acc_const = model_const.evaluate(x_train, y_train, verbose=0)\n",
        "test_loss_const, test_acc_const = model_const.evaluate(x_test, y_test, verbose=0)\n",
        "\n",
        "print(f\"\\n [Constant Learning Rate] Training Accuracy: {train_acc_const:.4f}\")\n",
        "print(f\" [Constant Learning Rate] Test Accuracy:     {test_acc_const:.4f}\")\n"
      ],
      "metadata": {
        "colab": {
          "base_uri": "https://localhost:8080/"
        },
        "id": "jOZ1KeTlkCQs",
        "outputId": "ef870b2b-9036-4c37-8b6a-eb21a2546631"
      },
      "execution_count": 13,
      "outputs": [
        {
          "output_type": "stream",
          "name": "stdout",
          "text": [
            "Epoch 1/50\n",
            "469/469 - 86s - 183ms/step - accuracy: 0.8733 - loss: 0.4692 - val_accuracy: 0.9214 - val_loss: 0.2824\n",
            "Epoch 2/50\n",
            "469/469 - 1s - 2ms/step - accuracy: 0.9266 - loss: 0.2618 - val_accuracy: 0.9368 - val_loss: 0.2238\n",
            "Epoch 3/50\n",
            "469/469 - 1s - 3ms/step - accuracy: 0.9410 - loss: 0.2105 - val_accuracy: 0.9453 - val_loss: 0.1874\n",
            "Epoch 4/50\n",
            "469/469 - 2s - 3ms/step - accuracy: 0.9499 - loss: 0.1782 - val_accuracy: 0.9498 - val_loss: 0.1674\n",
            "Epoch 5/50\n",
            "469/469 - 2s - 5ms/step - accuracy: 0.9569 - loss: 0.1543 - val_accuracy: 0.9581 - val_loss: 0.1448\n",
            "Epoch 6/50\n",
            "469/469 - 1s - 2ms/step - accuracy: 0.9620 - loss: 0.1366 - val_accuracy: 0.9598 - val_loss: 0.1338\n",
            "Epoch 7/50\n",
            "469/469 - 1s - 3ms/step - accuracy: 0.9667 - loss: 0.1223 - val_accuracy: 0.9640 - val_loss: 0.1260\n",
            "Epoch 8/50\n",
            "469/469 - 1s - 2ms/step - accuracy: 0.9696 - loss: 0.1107 - val_accuracy: 0.9681 - val_loss: 0.1142\n",
            "Epoch 9/50\n",
            "469/469 - 1s - 3ms/step - accuracy: 0.9714 - loss: 0.1018 - val_accuracy: 0.9674 - val_loss: 0.1105\n",
            "Epoch 10/50\n",
            "469/469 - 1s - 3ms/step - accuracy: 0.9739 - loss: 0.0939 - val_accuracy: 0.9683 - val_loss: 0.1042\n",
            "Epoch 11/50\n",
            "469/469 - 1s - 2ms/step - accuracy: 0.9757 - loss: 0.0870 - val_accuracy: 0.9714 - val_loss: 0.0975\n",
            "Epoch 12/50\n",
            "469/469 - 1s - 3ms/step - accuracy: 0.9778 - loss: 0.0813 - val_accuracy: 0.9718 - val_loss: 0.0976\n",
            "Epoch 13/50\n",
            "469/469 - 2s - 5ms/step - accuracy: 0.9790 - loss: 0.0760 - val_accuracy: 0.9731 - val_loss: 0.0937\n",
            "Epoch 14/50\n",
            "469/469 - 1s - 3ms/step - accuracy: 0.9805 - loss: 0.0715 - val_accuracy: 0.9745 - val_loss: 0.0901\n",
            "Epoch 15/50\n",
            "469/469 - 3s - 5ms/step - accuracy: 0.9812 - loss: 0.0673 - val_accuracy: 0.9738 - val_loss: 0.0892\n",
            "Epoch 16/50\n",
            "469/469 - 1s - 2ms/step - accuracy: 0.9826 - loss: 0.0639 - val_accuracy: 0.9748 - val_loss: 0.0850\n",
            "Epoch 17/50\n",
            "469/469 - 1s - 3ms/step - accuracy: 0.9833 - loss: 0.0602 - val_accuracy: 0.9741 - val_loss: 0.0838\n",
            "Epoch 18/50\n",
            "469/469 - 1s - 3ms/step - accuracy: 0.9848 - loss: 0.0570 - val_accuracy: 0.9762 - val_loss: 0.0812\n",
            "Epoch 19/50\n",
            "469/469 - 1s - 3ms/step - accuracy: 0.9852 - loss: 0.0544 - val_accuracy: 0.9773 - val_loss: 0.0791\n",
            "Epoch 20/50\n",
            "469/469 - 2s - 3ms/step - accuracy: 0.9865 - loss: 0.0517 - val_accuracy: 0.9763 - val_loss: 0.0779\n",
            "Epoch 21/50\n",
            "469/469 - 1s - 3ms/step - accuracy: 0.9871 - loss: 0.0494 - val_accuracy: 0.9769 - val_loss: 0.0795\n",
            "Epoch 22/50\n",
            "469/469 - 1s - 3ms/step - accuracy: 0.9877 - loss: 0.0469 - val_accuracy: 0.9774 - val_loss: 0.0774\n",
            "Epoch 23/50\n",
            "469/469 - 1s - 3ms/step - accuracy: 0.9880 - loss: 0.0451 - val_accuracy: 0.9774 - val_loss: 0.0767\n",
            "Epoch 24/50\n",
            "469/469 - 1s - 3ms/step - accuracy: 0.9888 - loss: 0.0430 - val_accuracy: 0.9779 - val_loss: 0.0748\n",
            "Epoch 25/50\n",
            "469/469 - 2s - 5ms/step - accuracy: 0.9894 - loss: 0.0410 - val_accuracy: 0.9785 - val_loss: 0.0736\n",
            "Epoch 26/50\n",
            "469/469 - 1s - 3ms/step - accuracy: 0.9897 - loss: 0.0394 - val_accuracy: 0.9781 - val_loss: 0.0741\n",
            "Epoch 27/50\n",
            "469/469 - 1s - 2ms/step - accuracy: 0.9905 - loss: 0.0379 - val_accuracy: 0.9775 - val_loss: 0.0740\n",
            "Epoch 28/50\n",
            "469/469 - 2s - 4ms/step - accuracy: 0.9908 - loss: 0.0362 - val_accuracy: 0.9790 - val_loss: 0.0732\n",
            "Epoch 29/50\n",
            "469/469 - 1s - 3ms/step - accuracy: 0.9912 - loss: 0.0347 - val_accuracy: 0.9781 - val_loss: 0.0733\n",
            "Epoch 30/50\n",
            "469/469 - 2s - 5ms/step - accuracy: 0.9922 - loss: 0.0335 - val_accuracy: 0.9788 - val_loss: 0.0717\n",
            "Epoch 31/50\n",
            "469/469 - 1s - 3ms/step - accuracy: 0.9923 - loss: 0.0322 - val_accuracy: 0.9792 - val_loss: 0.0698\n",
            "Epoch 32/50\n",
            "469/469 - 1s - 2ms/step - accuracy: 0.9927 - loss: 0.0306 - val_accuracy: 0.9780 - val_loss: 0.0727\n",
            "Epoch 33/50\n",
            "469/469 - 1s - 3ms/step - accuracy: 0.9931 - loss: 0.0296 - val_accuracy: 0.9777 - val_loss: 0.0712\n",
            "Epoch 34/50\n",
            "469/469 - 1s - 3ms/step - accuracy: 0.9934 - loss: 0.0285 - val_accuracy: 0.9788 - val_loss: 0.0698\n",
            "Epoch 35/50\n",
            "469/469 - 3s - 6ms/step - accuracy: 0.9938 - loss: 0.0273 - val_accuracy: 0.9776 - val_loss: 0.0708\n",
            "Epoch 36/50\n",
            "469/469 - 2s - 5ms/step - accuracy: 0.9942 - loss: 0.0265 - val_accuracy: 0.9781 - val_loss: 0.0697\n",
            "Epoch 37/50\n",
            "469/469 - 1s - 2ms/step - accuracy: 0.9948 - loss: 0.0251 - val_accuracy: 0.9780 - val_loss: 0.0691\n",
            "Epoch 38/50\n",
            "469/469 - 1s - 2ms/step - accuracy: 0.9948 - loss: 0.0245 - val_accuracy: 0.9790 - val_loss: 0.0678\n",
            "Epoch 39/50\n",
            "469/469 - 1s - 3ms/step - accuracy: 0.9952 - loss: 0.0235 - val_accuracy: 0.9795 - val_loss: 0.0694\n",
            "Epoch 40/50\n",
            "469/469 - 1s - 3ms/step - accuracy: 0.9953 - loss: 0.0229 - val_accuracy: 0.9794 - val_loss: 0.0685\n",
            "Epoch 41/50\n",
            "469/469 - 2s - 5ms/step - accuracy: 0.9959 - loss: 0.0219 - val_accuracy: 0.9785 - val_loss: 0.0688\n",
            "Epoch 42/50\n",
            "469/469 - 1s - 2ms/step - accuracy: 0.9959 - loss: 0.0211 - val_accuracy: 0.9793 - val_loss: 0.0691\n",
            "Epoch 43/50\n",
            "469/469 - 2s - 4ms/step - accuracy: 0.9962 - loss: 0.0205 - val_accuracy: 0.9780 - val_loss: 0.0698\n",
            "Epoch 44/50\n",
            "469/469 - 1s - 3ms/step - accuracy: 0.9965 - loss: 0.0197 - val_accuracy: 0.9793 - val_loss: 0.0690\n",
            "Epoch 45/50\n",
            "469/469 - 1s - 2ms/step - accuracy: 0.9969 - loss: 0.0190 - val_accuracy: 0.9784 - val_loss: 0.0707\n",
            "Epoch 46/50\n",
            "469/469 - 1s - 3ms/step - accuracy: 0.9970 - loss: 0.0185 - val_accuracy: 0.9787 - val_loss: 0.0683\n",
            "Epoch 47/50\n",
            "469/469 - 1s - 3ms/step - accuracy: 0.9973 - loss: 0.0178 - val_accuracy: 0.9787 - val_loss: 0.0696\n",
            "Epoch 48/50\n",
            "469/469 - 3s - 5ms/step - accuracy: 0.9974 - loss: 0.0173 - val_accuracy: 0.9786 - val_loss: 0.0687\n",
            "Epoch 49/50\n",
            "469/469 - 3s - 5ms/step - accuracy: 0.9974 - loss: 0.0167 - val_accuracy: 0.9790 - val_loss: 0.0683\n",
            "Epoch 50/50\n",
            "469/469 - 3s - 6ms/step - accuracy: 0.9976 - loss: 0.0162 - val_accuracy: 0.9789 - val_loss: 0.0693\n",
            "\n",
            " [Constant Learning Rate] Training Accuracy: 0.9983\n",
            " [Constant Learning Rate] Test Accuracy:     0.9789\n"
          ]
        }
      ]
    },
    {
      "cell_type": "markdown",
      "source": [
        "11) Plotting the Comparison of Accuracy Curves for Different Learning Rate Schedules"
      ],
      "metadata": {
        "id": "sNtS-2eIgRVd"
      }
    },
    {
      "cell_type": "code",
      "source": [
        "# Extract validation accuracy (val_accuracy) or training accuracy (accuracy)\n",
        "acc_const = history_const.history['val_accuracy']\n",
        "acc_time = history_time.history['val_accuracy']\n",
        "acc_step = history_step.history['val_accuracy']\n",
        "acc_exp  = history_exp.history['val_accuracy']\n",
        "\n",
        "# Define epoch range\n",
        "epochs = range(1, len(acc_const) + 1)\n",
        "\n",
        "# Plot the comparison of accuracy curves\n",
        "plt.figure(figsize=(10, 6))\n",
        "plt.plot(epochs, acc_const, label='a: Constant (lr = 0.1)', linewidth=2)\n",
        "plt.plot(epochs, acc_time, label='b: Time-based Decay', linewidth=2)\n",
        "plt.plot(epochs, acc_step, label='c: Step Decay', linewidth=2)\n",
        "plt.plot(epochs, acc_exp,  label='d: Exponential Decay', linewidth=2)\n",
        "\n",
        "# Set plot labels and title\n",
        "plt.title('Comparison of Accuracy for Different Learning Rate Schedules')\n",
        "plt.xlabel('Epoch')\n",
        "plt.ylabel('Validation Accuracy')\n",
        "plt.legend()\n",
        "plt.grid(True)\n",
        "plt.tight_layout()\n",
        "plt.show()\n"
      ],
      "metadata": {
        "colab": {
          "base_uri": "https://localhost:8080/",
          "height": 607
        },
        "id": "AAXJRaKcgUUV",
        "outputId": "0b89f684-c333-4142-f90d-2d1ec30c8a80"
      },
      "execution_count": 14,
      "outputs": [
        {
          "output_type": "display_data",
          "data": {
            "text/plain": [
              "<Figure size 1000x600 with 1 Axes>"
            ],
            "image/png": "[encoded data removed]"
          },
          "metadata": {}
        }
      ]
    },
    {
      "cell_type": "markdown",
      "source": [
        "-->Report & Experince"
      ],
      "metadata": {
        "id": "NJW-2hiQiBgM"
      }
    },
    {
      "cell_type": "markdown",
      "source": [
        "\n",
        "\n",
        "###  **Overall Analysis**:\n",
        "\n",
        "The comparison chart shows that all four learning rate strategies (Constant, Time-based Decay, Step Decay, and Exponential Decay) perform quite similarly, especially in the later stages of training where the model converges to high accuracy. However, there are some subtle but important differences.\n",
        "\n",
        "\n",
        "\n",
        "###  **Detailed Comparison of Learning Rate Strategies**:\n",
        "\n",
        "1. **a: Constant Learning Rate (lr = 0.1)**  \n",
        "   - Performs very well and remains stable throughout training.  \n",
        "   - Achieves high accuracy early and maintains it consistently.  \n",
        "   - In some epochs, it yields the best validation accuracy.  \n",
        "   - However, it might not fine-tune as precisely as decaying schedules in certain cases.\n",
        "\n",
        "2. **b: Time-based Decay**  \n",
        "   - Reaches high accuracy quickly in the early epochs.  \n",
        "   - Gradual decrease in learning rate allows for steady convergence.  \n",
        "   - Final accuracy is nearly the same as the constant rate, with smoother transitions.  \n",
        "   - Good choice for balancing speed and stability in training.\n",
        "\n",
        "3. **c: Step Decay**  \n",
        "   - Similar performance overall but slightly less accurate at the end.  \n",
        "   - Sudden drops in learning rate may introduce small instability.  \n",
        "   - Useful when specific learning rate changes are needed at fixed intervals.\n",
        "\n",
        "4. **d: Exponential Decay**  \n",
        "   - Slightly lower performance compared to others.  \n",
        "   - Learning rate drops too quickly, possibly limiting later fine-tuning.  \n",
        "   - Still achieves good accuracy but may not be optimal for prolonged training.\n",
        "\n",
        "---\n",
        "\n",
        "###  **Final Conclusion**:\n",
        "\n",
        "For this experiment, **Constant Learning Rate** and **Time-based Decay** provided the best results in terms of accuracy and convergence behavior.  \n",
        "- If you want fast and strong performance with minimal complexity, **constant rate** works well.  \n",
        "- If you need smooth convergence and better control over learning dynamics, **time-based decay** is a strong candidate.\n",
        "\n"
      ],
      "metadata": {
        "id": "7AdqZvYAlHHz"
      }
    }
  ]
}